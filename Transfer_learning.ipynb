{
  "nbformat": 4,
  "nbformat_minor": 0,
  "metadata": {
    "colab": {
      "name": "Untitled10.ipynb",
      "provenance": [],
      "authorship_tag": "ABX9TyOkBeA5RlFUnq7n5rVTgpmE",
      "include_colab_link": true
    },
    "kernelspec": {
      "name": "python3",
      "display_name": "Python 3"
    },
    "language_info": {
      "name": "python"
    }
  },
  "cells": [
    {
      "cell_type": "markdown",
      "metadata": {
        "id": "view-in-github",
        "colab_type": "text"
      },
      "source": [
        "<a href=\"https://colab.research.google.com/github/DivyaMeenaSundaram/Deep_Learning_Lab/blob/main/Transfer_learning.ipynb\" target=\"_parent\"><img src=\"https://colab.research.google.com/assets/colab-badge.svg\" alt=\"Open In Colab\"/></a>"
      ]
    },
    {
      "cell_type": "code",
      "execution_count": 5,
      "metadata": {
        "id": "yMBemnAC1QU5"
      },
      "outputs": [],
      "source": [
        "import numpy as np\n",
        "from keras.datasets import cifar10\n",
        "\n",
        "#Load the dataset:\n",
        "(X_train, y_train), (X_test, y_test) = cifar10.load_data()"
      ]
    },
    {
      "cell_type": "code",
      "source": [
        "print(\"There are {} train images and {} test images.\".format(X_train.shape[0], X_test.shape[0]))\n",
        "print('There are {} unique classes to predict.'.format(np.unique(y_train).shape[0]))"
      ],
      "metadata": {
        "colab": {
          "base_uri": "https://localhost:8080/"
        },
        "id": "OInY8Gdb1b4G",
        "outputId": "eeb4df08-3ba9-42c7-9c2c-bd52164a3bae"
      },
      "execution_count": 6,
      "outputs": [
        {
          "output_type": "stream",
          "name": "stdout",
          "text": [
            "There are 50000 train images and 10000 test images.\n",
            "There are 10 unique classes to predict.\n"
          ]
        }
      ]
    },
    {
      "cell_type": "code",
      "source": [
        "#One-hot encoding the labels\n",
        "num_classes = 10\n",
        "from keras.utils import np_utils\n",
        "y_train = np_utils.to_categorical(y_train, num_classes)\n",
        "y_test = np_utils.to_categorical(y_test, num_classes)"
      ],
      "metadata": {
        "id": "XmfnhUvD1fPL"
      },
      "execution_count": 7,
      "outputs": []
    },
    {
      "cell_type": "code",
      "source": [
        "#Importing the necessary libraries \n",
        "from keras.models import Sequential\n",
        "from keras.layers import Dense, Conv2D, MaxPooling2D\n",
        "from keras.layers import Dropout, Flatten, GlobalAveragePooling2D"
      ],
      "metadata": {
        "id": "AnuE8h2j1pqW"
      },
      "execution_count": 8,
      "outputs": []
    },
    {
      "cell_type": "code",
      "source": [
        "#Building up a Sequential model\n",
        "model = Sequential()\n",
        "model.add(Conv2D(32, (3, 3), activation='relu',input_shape = X_train.shape[1:]))\n",
        "model.add(MaxPooling2D(pool_size=(2, 2)))\n",
        "\n",
        "model.add(Conv2D(32, (3, 3), activation='relu'))\n",
        "model.add(MaxPooling2D(pool_size=(2, 2)))\n",
        "\n",
        "model.add(Conv2D(64, (3, 3), activation='relu'))\n",
        "model.add(MaxPooling2D(pool_size=(2, 2)))\n",
        "\n",
        "model.add(GlobalAveragePooling2D())\n",
        "model.add(Dense(10, activation='softmax'))\n",
        "model.summary()"
      ],
      "metadata": {
        "colab": {
          "base_uri": "https://localhost:8080/"
        },
        "id": "e2LjRAuu1th3",
        "outputId": "db3bd188-9dba-4719-90ce-ad6fd0b32e34"
      },
      "execution_count": 9,
      "outputs": [
        {
          "output_type": "stream",
          "name": "stdout",
          "text": [
            "Model: \"sequential\"\n",
            "_________________________________________________________________\n",
            " Layer (type)                Output Shape              Param #   \n",
            "=================================================================\n",
            " conv2d (Conv2D)             (None, 30, 30, 32)        896       \n",
            "                                                                 \n",
            " max_pooling2d (MaxPooling2D  (None, 15, 15, 32)       0         \n",
            " )                                                               \n",
            "                                                                 \n",
            " conv2d_1 (Conv2D)           (None, 13, 13, 32)        9248      \n",
            "                                                                 \n",
            " max_pooling2d_1 (MaxPooling  (None, 6, 6, 32)         0         \n",
            " 2D)                                                             \n",
            "                                                                 \n",
            " conv2d_2 (Conv2D)           (None, 4, 4, 64)          18496     \n",
            "                                                                 \n",
            " max_pooling2d_2 (MaxPooling  (None, 2, 2, 64)         0         \n",
            " 2D)                                                             \n",
            "                                                                 \n",
            " global_average_pooling2d (G  (None, 64)               0         \n",
            " lobalAveragePooling2D)                                          \n",
            "                                                                 \n",
            " dense (Dense)               (None, 10)                650       \n",
            "                                                                 \n",
            "=================================================================\n",
            "Total params: 29,290\n",
            "Trainable params: 29,290\n",
            "Non-trainable params: 0\n",
            "_________________________________________________________________\n"
          ]
        }
      ]
    },
    {
      "cell_type": "code",
      "source": [
        "model.compile(loss='binary_crossentropy', optimizer='adam', metrics=['accuracy'])"
      ],
      "metadata": {
        "id": "mVUOo2Rw1z0d"
      },
      "execution_count": 10,
      "outputs": []
    },
    {
      "cell_type": "code",
      "source": [
        "X_train_scratch = X_train/255.\n",
        "X_test_scratch = X_test/255."
      ],
      "metadata": {
        "id": "o4mxh767139F"
      },
      "execution_count": 11,
      "outputs": []
    },
    {
      "cell_type": "code",
      "source": [
        "from keras.callbacks import ModelCheckpoint"
      ],
      "metadata": {
        "id": "1nUD9THr2MzT"
      },
      "execution_count": 12,
      "outputs": []
    },
    {
      "cell_type": "code",
      "source": [
        "#Creating a checkpointer \n",
        "checkpointer = ModelCheckpoint(filepath='scratchmodel.best.hdf5',save_best_only=True)"
      ],
      "metadata": {
        "id": "dC9MMkd116wi"
      },
      "execution_count": 13,
      "outputs": []
    },
    {
      "cell_type": "code",
      "source": [
        "#Fitting the model on the train data and labels.\n",
        "model.fit(X_train, y_train, batch_size=32, epochs=2,verbose=1, callbacks=[checkpointer], validation_split=0.2, shuffle=True)"
      ],
      "metadata": {
        "colab": {
          "base_uri": "https://localhost:8080/"
        },
        "id": "_vwsOVyB2pMV",
        "outputId": "66005e89-18db-4f98-eba7-c1940bdbd9ad"
      },
      "execution_count": 14,
      "outputs": [
        {
          "output_type": "stream",
          "name": "stdout",
          "text": [
            "Epoch 1/2\n",
            "1250/1250 [==============================] - 48s 38ms/step - loss: 0.3000 - accuracy: 0.3350 - val_loss: 0.2423 - val_accuracy: 0.4448\n",
            "Epoch 2/2\n",
            "1250/1250 [==============================] - 49s 39ms/step - loss: 0.2304 - accuracy: 0.4799 - val_loss: 0.2279 - val_accuracy: 0.4951\n"
          ]
        },
        {
          "output_type": "execute_result",
          "data": {
            "text/plain": [
              "<keras.callbacks.History at 0x7fbb5b52bf90>"
            ]
          },
          "metadata": {},
          "execution_count": 14
        }
      ]
    },
    {
      "cell_type": "code",
      "source": [
        "#Evaluate the model on the test data\n",
        "score = model.evaluate(X_test, y_test)\n",
        "\n",
        "#Accuracy on test data\n",
        "print('Accuracy on the Test Images: ', score[1])"
      ],
      "metadata": {
        "colab": {
          "base_uri": "https://localhost:8080/"
        },
        "id": "uS7X4Q2E3Fyf",
        "outputId": "da4ac388-3480-49d6-bd5f-704bfe414bdc"
      },
      "execution_count": 15,
      "outputs": [
        {
          "output_type": "stream",
          "name": "stdout",
          "text": [
            "313/313 [==============================] - 4s 11ms/step - loss: 0.2252 - accuracy: 0.4986\n",
            "Accuracy on the Test Images:  0.4986000061035156\n"
          ]
        }
      ]
    },
    {
      "cell_type": "code",
      "source": [
        "from tensorflow.keras.applications.resnet50 import ResNet50"
      ],
      "metadata": {
        "id": "hu8HOnzN3xCW"
      },
      "execution_count": 16,
      "outputs": []
    },
    {
      "cell_type": "code",
      "source": [
        "#Importing the ResNet50 model\n",
        "from tensorflow.keras.applications.resnet50 import ResNet50, preprocess_input\n",
        "\n",
        "#Loading the ResNet50 model with pre-trained ImageNet weights\n",
        "model = ResNet50(weights='imagenet', include_top=False, input_shape=(200, 200, 3))"
      ],
      "metadata": {
        "id": "nHminmK53zhM"
      },
      "execution_count": 17,
      "outputs": []
    },
    {
      "cell_type": "code",
      "source": [
        "from skimage.transform import resize"
      ],
      "metadata": {
        "id": "f2KBFDYI4TYz"
      },
      "execution_count": 18,
      "outputs": []
    },
    {
      "cell_type": "code",
      "source": [
        "#Reshaping the training data\n",
        "X_train_new = np.array([resize(X_train[i], (200, 200, 3)) for i in range(0, len(X_train))]).astype('float32')\n",
        "\n",
        "#Preprocessing the data, so that it can be fed to the pre-trained ResNet50 model. \n",
        "resnet_train_input = preprocess_input(X_train_new)\n",
        "\n",
        "#Creating bottleneck features for the training data\n",
        "train_features = model.predict(resnet_train_input)\n",
        "\n",
        "#Saving the bottleneck features\n",
        "np.savez('resnet_features_train', features=train_features)"
      ],
      "metadata": {
        "id": "JYhJBTgc4VOr"
      },
      "execution_count": null,
      "outputs": []
    },
    {
      "cell_type": "code",
      "source": [
        "#Reshaping the testing data\n",
        "X_test_new = np.array([resize(X_test[i], (200, 200, 3)) for i in range(0, len(X_test))]).astype('float32')\n",
        "\n",
        "#Preprocessing the data, so that it can be fed to the pre-trained ResNet50 model.\n",
        "resnet_test_input = preprocess_input(X_test_new)\n",
        "\n",
        "#Creating bottleneck features for the testing data\n",
        "test_features = model.predict(resnet_test_input)\n",
        "\n",
        "#Saving the bottleneck features\n",
        "np.savez('resnet_features_test', features=test_features)"
      ],
      "metadata": {
        "id": "SOVDgtnZ6dys"
      },
      "execution_count": null,
      "outputs": []
    },
    {
      "cell_type": "code",
      "source": [
        "model = Sequential()\n",
        "model.add(GlobalAveragePooling2D(input_shape=train_features.shape[1:]))\n",
        "model.add(Dropout(0.3))\n",
        "model.add(Dense(10, activation='softmax'))\n",
        "model.summary()"
      ],
      "metadata": {
        "id": "jXOfFRUW6hTO"
      },
      "execution_count": null,
      "outputs": []
    },
    {
      "cell_type": "code",
      "source": [
        "model.compile(loss='categorical_crossentropy', optimizer='adam', metrics=['accuracy'])"
      ],
      "metadata": {
        "id": "xnY81qO06jgo"
      },
      "execution_count": null,
      "outputs": []
    },
    {
      "cell_type": "code",
      "source": [
        "model.fit(train_features, y_train, batch_size=32, epochs=10, validation_split=0.2, callbacks=[checkpointer], verbose=1, shuffle=True)"
      ],
      "metadata": {
        "id": "XNegvIta6meH"
      },
      "execution_count": null,
      "outputs": []
    },
    {
      "cell_type": "code",
      "source": [
        "#Evaluate the model on the test data\n",
        "score  = model.evaluate(test_features, y_test)\n",
        "\n",
        "#Accuracy on test data\n",
        "print('Accuracy on the Test Images: ', score[1])"
      ],
      "metadata": {
        "id": "8Cyu8xK66q9R"
      },
      "execution_count": null,
      "outputs": []
    }
  ]
}